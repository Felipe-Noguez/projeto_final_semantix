{
 "cells": [
  {
   "cell_type": "code",
   "execution_count": 89,
   "metadata": {},
   "outputs": [],
   "source": [
    "#Importando as bibliotecas\n",
    "from pyspark.sql.functions import *\n",
    "from pyspark.sql.types import *\n",
    "#from pyspark.sql import SQLContext\n",
    "#from pyspark.sql.functions import format_number"
   ]
  },
  {
   "cell_type": "code",
   "execution_count": null,
   "metadata": {},
   "outputs": [],
   "source": [
    "#criando pasta do projeto para enviar os arquivos .csv\n",
    "!hdfs dfs -mkdir user/noguez/projeto_final_semantix"
   ]
  },
  {
   "cell_type": "code",
   "execution_count": 3,
   "metadata": {
    "scrolled": true
   },
   "outputs": [
    {
     "name": "stdout",
     "output_type": "stream",
     "text": [
      "Found 4 items\r\n",
      "-rw-r--r--   3 root supergroup   62492959 2021-07-09 02:35 user/noguez/projeto_final_semantix/HIST_PAINEL_COVIDBR_2020_Parte1_06jul2021.csv\r\n",
      "-rw-r--r--   3 root supergroup   76520681 2021-07-09 02:35 user/noguez/projeto_final_semantix/HIST_PAINEL_COVIDBR_2020_Parte2_06jul2021.csv\r\n",
      "-rw-r--r--   3 root supergroup   91120916 2021-07-09 02:35 user/noguez/projeto_final_semantix/HIST_PAINEL_COVIDBR_2021_Parte1_06jul2021.csv\r\n",
      "-rw-r--r--   3 root supergroup    3046774 2021-07-09 02:35 user/noguez/projeto_final_semantix/HIST_PAINEL_COVIDBR_2021_Parte2_06jul2021.csv\r\n"
     ]
    }
   ],
   "source": [
    "#listando arquivos .csv que foram enviados para o diretório através do prompt de comando\n",
    "!hdfs dfs -ls user/noguez/projeto_final_semantix"
   ]
  },
  {
   "cell_type": "code",
   "execution_count": 2,
   "metadata": {
    "scrolled": false
   },
   "outputs": [
    {
     "name": "stdout",
     "output_type": "stream",
     "text": [
      "Found 4 items\r\n",
      "drwxr-xr-x   - root supergroup          0 2021-07-11 00:27 /user/hive/warehouse/covid_confirmados_parquet\r\n",
      "drwxr-xr-x   - root supergroup          0 2021-07-10 23:44 /user/hive/warehouse/covidhive\r\n",
      "drwxr-xr-x   - root supergroup          0 2021-07-10 16:49 /user/hive/warehouse/dados_covid_partition\r\n",
      "drwxr-xr-x   - root supergroup          0 2021-06-23 02:04 /user/hive/warehouse/juros\r\n"
     ]
    }
   ],
   "source": [
    "#listando diretórios do Hive\n",
    "!hdfs dfs -ls /user/hive/warehouse/"
   ]
  },
  {
   "cell_type": "code",
   "execution_count": 4,
   "metadata": {
    "scrolled": true
   },
   "outputs": [
    {
     "name": "stdout",
     "output_type": "stream",
     "text": [
      "Found 11 items\r\n",
      "drwxr-xr-x   - root supergroup          0 2021-06-23 01:29 user/noguez/data\r\n",
      "drwxr-xr-x   - root supergroup          0 2021-06-27 15:05 user/noguez/juros_selic_americano\r\n",
      "drwxr-xr-x   - root supergroup          0 2021-07-03 19:10 user/noguez/kafka\r\n",
      "drwxr-xr-x   - root supergroup          0 2021-06-26 15:39 user/noguez/logs_count_word_5\r\n",
      "drwxr-xr-x   - root supergroup          0 2021-06-26 18:14 user/noguez/names_us_orc\r\n",
      "drwxr-xr-x   - root supergroup          0 2021-06-26 19:58 user/noguez/names_us_parquet\r\n",
      "drwxr-xr-x   - root supergroup          0 2021-07-09 02:35 user/noguez/projeto_final_semantix\r\n",
      "drwxr-xr-x   - root supergroup          0 2021-07-01 01:05 user/noguez/projeto_python\r\n",
      "drwxr-xr-x   - root supergroup          0 2021-06-27 17:35 user/noguez/ralatorio_anual\r\n",
      "drwxr-xr-x   - root supergroup          0 2021-07-02 00:25 user/noguez/stream\r\n",
      "drwxr-xr-x   - root supergroup          0 2021-07-05 23:53 user/noguez/stream_iris\r\n"
     ]
    }
   ],
   "source": [
    "#listando diretórios no HDFS\n",
    "!hdfs dfs -ls user/noguez"
   ]
  },
  {
   "cell_type": "code",
   "execution_count": 5,
   "metadata": {},
   "outputs": [
    {
     "name": "stdout",
     "output_type": "stream",
     "text": [
      "regiao;estado;municipio;coduf;codmun;codRegiaoSaude;nomeRegiaoSaude;data;semanaEpi;populacaoTCU2019;casosAcumulado;casosNovos;obitosAcumulado;obitosNovos;Recuperadosnovos;emAcompanhamentoNovos;interior/metropolitana\r",
      "\r\n",
      "Brasil;;;76;;;;2021-07-01;26;210147125;18622304;65163;520095;2029;16931272;1170937;\r",
      "\r\n",
      "Brasil;;;76;;;;2021-07-02;26;210147125;18687469;65165;521952;1857;16989351;1176166;\r",
      "\r\n",
      "Brasil;;;76;;;;2021-07-03;26;210147125;18742025;54556;523587;1635;17033808;1184630;\r",
      "\r\n",
      "Brasil;;;76;;;;2021-07-04;27;210147125;18769808;27783;524417;830;17082876;1162515;\r",
      "\r\n",
      "cat: Unable to write to output stream.\r\n"
     ]
    }
   ],
   "source": [
    "#leitura de 1 dos arquivos para verificar dados e cabeçalho\n",
    "!hdfs dfs -cat user/noguez/projeto_final_semantix/HIST_PAINEL_COVIDBR_2021_Parte2_06jul2021.csv | head -n 5"
   ]
  },
  {
   "cell_type": "code",
   "execution_count": 11,
   "metadata": {
    "scrolled": false
   },
   "outputs": [
    {
     "name": "stdout",
     "output_type": "stream",
     "text": [
      "+------+------+---------+-----+------+--------------+---------------+----------+---------+----------------+--------------+----------+---------------+-----------+----------------+---------------------+----------------------+\n",
      "|regiao|estado|municipio|coduf|codmun|codRegiaoSaude|nomeRegiaoSaude|      data|semanaEpi|populacaoTCU2019|casosAcumulado|casosNovos|obitosAcumulado|obitosNovos|Recuperadosnovos|emAcompanhamentoNovos|interior/metropolitana|\n",
      "+------+------+---------+-----+------+--------------+---------------+----------+---------+----------------+--------------+----------+---------------+-----------+----------------+---------------------+----------------------+\n",
      "|Brasil|  null|     null|   76|  null|          null|           null|2021-01-01|       53|       210147125|       7700578|     24605|         195411|        462|         6756284|               748883|                  null|\n",
      "|Brasil|  null|     null|   76|  null|          null|           null|2021-01-02|       53|       210147125|       7716405|     15827|         195725|        314|         6769420|               751260|                  null|\n",
      "|Brasil|  null|     null|   76|  null|          null|           null|2021-01-03|        1|       210147125|       7733746|     17341|         196018|        293|         6813008|               724720|                  null|\n",
      "+------+------+---------+-----+------+--------------+---------------+----------+---------+----------------+--------------+----------+---------------+-----------+----------------+---------------------+----------------------+\n",
      "only showing top 3 rows\n",
      "\n"
     ]
    }
   ],
   "source": [
    "#Leitura e exibindo as 3 primeiras linhas  do dataframe com todos os arquivos .csv\n",
    "dados_covid_br = spark.read.csv(\"user/noguez/projeto_final_semantix/*\", sep=';', header=True ).show(3)"
   ]
  },
  {
   "cell_type": "code",
   "execution_count": 12,
   "metadata": {},
   "outputs": [],
   "source": [
    "#Carregando os dados para a variável\n",
    "dados_covid_br = spark.read.csv(\"user/noguez/projeto_final_semantix/*\", sep=';', header=True )"
   ]
  },
  {
   "cell_type": "code",
   "execution_count": 13,
   "metadata": {},
   "outputs": [
    {
     "data": {
      "text/plain": [
       "pyspark.sql.dataframe.DataFrame"
      ]
     },
     "execution_count": 13,
     "metadata": {},
     "output_type": "execute_result"
    }
   ],
   "source": [
    "#verificando tipo da variável\n",
    "type(dados_covid_br)"
   ]
  },
  {
   "cell_type": "code",
   "execution_count": 14,
   "metadata": {},
   "outputs": [],
   "source": [
    "\n",
    "dados_covid_br.write.saveA(\"/user/hive/warehouse/dados_covid_partition\", partitionBy='municipio')"
   ]
  },
  {
   "cell_type": "code",
   "execution_count": 17,
   "metadata": {
    "scrolled": true
   },
   "outputs": [
    {
     "name": "stdout",
     "output_type": "stream",
     "text": [
      "Found 5299 items\r\n",
      "-rw-r--r--   2 root supergroup          0 2021-07-10 16:49 /user/hive/warehouse/dados_covid_partition/_SUCCESS\r\n",
      "drwxr-xr-x   - root supergroup          0 2021-07-10 16:49 /user/hive/warehouse/dados_covid_partition/municipio=Abadia de Goiás\r\n"
     ]
    }
   ],
   "source": [
    "!hdfs dfs -ls /user/hive/warehouse/dados_covid_partition/ | head -n 3"
   ]
  },
  {
   "cell_type": "code",
   "execution_count": 27,
   "metadata": {},
   "outputs": [
    {
     "name": "stdout",
     "output_type": "stream",
     "text": [
      "+------+------+-----+------+--------------+---------------+----------+---------+----------------+--------------+----------+---------------+-----------+----------------+---------------------+----------------------+\n",
      "|regiao|estado|coduf|codmun|codRegiaoSaude|nomeRegiaoSaude|      data|semanaEpi|populacaoTCU2019|casosAcumulado|casosNovos|obitosAcumulado|obitosNovos|Recuperadosnovos|emAcompanhamentoNovos|interior/metropolitana|\n",
      "+------+------+-----+------+--------------+---------------+----------+---------+----------------+--------------+----------+---------------+-----------+----------------+---------------------+----------------------+\n",
      "|Brasil|  null|   76|  null|          null|           null|2021-01-01|       53|       210147125|       7700578|     24605|         195411|        462|         6756284|               748883|                  null|\n",
      "|   Sul|    PR|   41|410000|          null|           null|2021-01-01|       53|            null|          3171|        17|             63|          1|            null|                 null|                  null|\n",
      "|Brasil|  null|   76|  null|          null|           null|2021-01-02|       53|       210147125|       7716405|     15827|         195725|        314|         6769420|               751260|                  null|\n",
      "|   Sul|    PR|   41|410000|          null|           null|2021-01-02|       53|            null|          3181|        10|             63|          0|            null|                 null|                  null|\n",
      "|Brasil|  null|   76|  null|          null|           null|2021-01-03|        1|       210147125|       7733746|     17341|         196018|        293|         6813008|               724720|                  null|\n",
      "|   Sul|    PR|   41|410000|          null|           null|2021-01-03|        1|            null|          3193|        12|             63|          0|            null|                 null|                  null|\n",
      "|Brasil|  null|   76|  null|          null|           null|2021-01-04|        1|       210147125|       7753752|     20006|         196561|        543|         6875230|               681961|                  null|\n",
      "|   Sul|    PR|   41|410000|          null|           null|2021-01-04|        1|            null|          3202|         9|             63|          0|            null|                 null|                  null|\n",
      "|Brasil|  null|   76|  null|          null|           null|2021-01-05|        1|       210147125|       7810400|     56648|         197732|       1171|         6963407|               649261|                  null|\n",
      "|   Sul|    PR|   41|410000|          null|           null|2021-01-05|        1|            null|          3248|        46|             63|          0|            null|                 null|                  null|\n",
      "+------+------+-----+------+--------------+---------------+----------+---------+----------------+--------------+----------+---------------+-----------+----------------+---------------------+----------------------+\n",
      "only showing top 10 rows\n",
      "\n"
     ]
    }
   ],
   "source": [
    "spark.read.parquet(\"/user/hive/warehouse/dados_covid_partition/*\").show(10)"
   ]
  },
  {
   "cell_type": "code",
   "execution_count": 28,
   "metadata": {
    "scrolled": true
   },
   "outputs": [],
   "source": [
    "covid_parquet= spark.read.parquet(\"/user/hive/warehouse/dados_covid_partition/*\")"
   ]
  },
  {
   "cell_type": "code",
   "execution_count": 33,
   "metadata": {},
   "outputs": [
    {
     "name": "stdout",
     "output_type": "stream",
     "text": [
      "root\n",
      " |-- regiao: string (nullable = true)\n",
      " |-- estado: string (nullable = true)\n",
      " |-- coduf: string (nullable = true)\n",
      " |-- codmun: string (nullable = true)\n",
      " |-- codRegiaoSaude: string (nullable = true)\n",
      " |-- nomeRegiaoSaude: string (nullable = true)\n",
      " |-- data: string (nullable = true)\n",
      " |-- semanaEpi: string (nullable = true)\n",
      " |-- populacaoTCU2019: string (nullable = true)\n",
      " |-- casosAcumulado: string (nullable = true)\n",
      " |-- casosNovos: string (nullable = true)\n",
      " |-- obitosAcumulado: string (nullable = true)\n",
      " |-- obitosNovos: string (nullable = true)\n",
      " |-- Recuperadosnovos: string (nullable = true)\n",
      " |-- emAcompanhamentoNovos: string (nullable = true)\n",
      " |-- interior/metropolitana: string (nullable = true)\n",
      "\n"
     ]
    }
   ],
   "source": [
    "covid_parquet.printSchema()"
   ]
  },
  {
   "cell_type": "code",
   "execution_count": 30,
   "metadata": {},
   "outputs": [
    {
     "data": {
      "text/plain": [
       "pyspark.sql.dataframe.DataFrame"
      ]
     },
     "execution_count": 30,
     "metadata": {},
     "output_type": "execute_result"
    }
   ],
   "source": [
    "type(covid_parquet)"
   ]
  },
  {
   "cell_type": "code",
   "execution_count": 106,
   "metadata": {},
   "outputs": [
    {
     "name": "stdout",
     "output_type": "stream",
     "text": [
      "+-----------------+-----------------+\n",
      "|Casos_Recuperados|Em_acompanhamento|\n",
      "+-----------------+-----------------+\n",
      "|    2.920055795E9|     3.20793426E8|\n",
      "+-----------------+-----------------+\n",
      "\n"
     ]
    }
   ],
   "source": [
    "#Soma dos valores das colunas 'casos recuperados' e casos em acompanhamento\n",
    "recuperados_acompanhamento = covid_parquet.groupBy().agg(sum(\"Recuperadosnovos\").alias(\"Casos_Recuperados\"), sum(\"emAcompanhamentoNovos\").alias(\"Em_acompanhamento\"))\n",
    "recuperados_acompanhamento.show()"
   ]
  },
  {
   "cell_type": "code",
   "execution_count": 109,
   "metadata": {},
   "outputs": [
    {
     "name": "stdout",
     "output_type": "stream",
     "text": [
      "+-----------------+-----------------+\n",
      "|Casos_recuperados|Em_acompanhamento|\n",
      "+-----------------+-----------------+\n",
      "| 2,920,055,808.00|   320,793,440.00|\n",
      "+-----------------+-----------------+\n",
      "\n"
     ]
    }
   ],
   "source": [
    "#Visualização de 'casos recuperados', 'casos em acompanhamento' e casas decimais convertidas\n",
    "recuperados_acompanhamento_converter = recuperados_acompanhamento.withColumn(\"Casos_Recuperados\", col(\"Casos_Recuperados\").cast(FloatType()))\n",
    "recuperados_acompanhamento_converter_2 = recuperados_acompanhamento_converter.withColumn(\"Casos_recuperados\",format_number(col(\"Casos_Recuperados\").cast(FloatType()),2)).withColumn(\"Em_acompanhamento\",format_number(col(\"Em_acompanhamento\").cast(FloatType()),2))\n",
    "recuperados_acompanhamento_converter_2.show()"
   ]
  },
  {
   "cell_type": "code",
   "execution_count": 115,
   "metadata": {
    "scrolled": true
   },
   "outputs": [
    {
     "name": "stdout",
     "output_type": "stream",
     "text": [
      "+-------------+-----------+------------------+\n",
      "|    acumulado|casos_novos|        incidencia|\n",
      "+-------------+-----------+------------------+\n",
      "|9.998472092E9|5.6565045E7|0.8427081216260229|\n",
      "+-------------+-----------+------------------+\n",
      "\n"
     ]
    }
   ],
   "source": [
    "#Soma dos valores das colunas 'casos confirmados' (acumulado, casos novos e incidência)\n",
    "casos_confirmados = covid_parquet.groupBy().agg(sum(\"casosAcumulado\").alias(\"acumulado\"), sum(\"casosNovos\").alias(\"casos_novos\"), ((sum(\"casosNovos\")/ sum(\"semanaEpi\")).alias(\"incidencia\")))\n",
    "casos_confirmados.show()"
   ]
  },
  {
   "cell_type": "code",
   "execution_count": 116,
   "metadata": {},
   "outputs": [
    {
     "name": "stdout",
     "output_type": "stream",
     "text": [
      "+----------------+-------------+----------+\n",
      "|       Acumulado|  casos_novos|incidencia|\n",
      "+----------------+-------------+----------+\n",
      "|9,998,472,192.00|56,565,044.00|      0.84|\n",
      "+----------------+-------------+----------+\n",
      "\n"
     ]
    }
   ],
   "source": [
    "# Visualização de casos confirmados com casas decimais convertidas\n",
    "casos_confirmados_converter = casos_confirmados.withColumn(\"Acumulado\", col(\"Acumulado\").cast(FloatType()))\n",
    "casos_confirmados_converter_2 = casos_confirmados_converter.withColumn(\"Acumulado\",format_number(col(\"Acumulado\").cast(FloatType()),2)).withColumn(\"casos_novos\",format_number(col(\"casos_novos\").cast(FloatType()),2)).withColumn(\"incidencia\",format_number(col(\"incidencia\").cast(FloatType()),2))\n",
    "casos_confirmados_converter_2.show()"
   ]
  },
  {
   "cell_type": "code",
   "execution_count": 81,
   "metadata": {
    "scrolled": true
   },
   "outputs": [
    {
     "name": "stdout",
     "output_type": "stream",
     "text": [
      "+-----------------+-----------+----------------+------------+\n",
      "|Óbitos acumulados|Casos novos|      Letalidade| Mortalidade|\n",
      "+-----------------+-----------+----------------+------------+\n",
      "|     2.74784085E8|  1580676.0|2.74826075895997|2.74784085E8|\n",
      "+-----------------+-----------+----------------+------------+\n",
      "\n"
     ]
    }
   ],
   "source": [
    "#visualização de óbitos confirmados\n",
    "populacao = 211000000\n",
    "obitos_confirmados = covid_parquet.groupBy().agg(sum(\"obitosAcumulado\").alias(\"Óbitos acumulados\"), sum(\"obitosNovos\").alias(\"Casos novos\"), (sum(\"obitosAcumulado\")* 100 / sum(\"casosAcumulado\")).alias(\"Letalidade\"), (sum(\"obitosAcumulado\") ).alias(\"Mortalidade\"))\n",
    "obitos_confirmados.show()"
   ]
  },
  {
   "cell_type": "code",
   "execution_count": 104,
   "metadata": {},
   "outputs": [
    {
     "name": "stdout",
     "output_type": "stream",
     "text": [
      "+-----------------+------------+----------+--------------+\n",
      "|Óbitos acumulados| Casos novos|Letalidade|   Mortalidade|\n",
      "+-----------------+------------+----------+--------------+\n",
      "|   274,784,096.00|1,580,676.00|      2.75|274,784,096.00|\n",
      "+-----------------+------------+----------+--------------+\n",
      "\n"
     ]
    }
   ],
   "source": [
    "#visualização de óbitos confirmados\n",
    "obitos_confirmados_converter = obitos_confirmados.withColumn(\"Óbitos acumulados\", col(\"Óbitos acumulados\").cast(FloatType()))\n",
    "obitos_confirmados_converter_2 = obitos_confirmados_converter.withColumn(\"Óbitos acumulados\",format_number(col(\"Óbitos acumulados\").cast(FloatType()),2)).withColumn(\"Casos novos\",format_number(col(\"Casos novos\").cast(FloatType()),2)).withColumn(\"Letalidade\",format_number(col(\"Letalidade\").cast(FloatType()),2)).withColumn(\"Mortalidade\",format_number(col(\"Mortalidade\").cast(FloatType()),2))\n",
    "obitos_confirmados_converter_2.show()"
   ]
  },
  {
   "cell_type": "code",
   "execution_count": 110,
   "metadata": {},
   "outputs": [],
   "source": [
    "#Salvando visualização como uma tabela Hive\n",
    "recuperados_acompanhamento_converter_2.write.saveAsTable(\"covidHive\")"
   ]
  },
  {
   "cell_type": "code",
   "execution_count": 118,
   "metadata": {},
   "outputs": [],
   "source": [
    "#Salvando visualização no formato parquet com compressão snappy\n",
    "casos_confirmados_converter_2.write.parquet(\"/user/hive/warehouse/covid_confirmados_parquet\", compression='snappy')"
   ]
  },
  {
   "cell_type": "code",
   "execution_count": null,
   "metadata": {},
   "outputs": [],
   "source": [
    "kafka-console-producer --broker-list kafka:9092 --topic topicTeste < file.log"
   ]
  },
  {
   "cell_type": "code",
   "execution_count": null,
   "metadata": {},
   "outputs": [],
   "source": []
  },
  {
   "cell_type": "code",
   "execution_count": null,
   "metadata": {},
   "outputs": [],
   "source": []
  },
  {
   "cell_type": "code",
   "execution_count": null,
   "metadata": {},
   "outputs": [],
   "source": []
  },
  {
   "cell_type": "code",
   "execution_count": null,
   "metadata": {},
   "outputs": [],
   "source": []
  },
  {
   "cell_type": "code",
   "execution_count": null,
   "metadata": {},
   "outputs": [],
   "source": []
  },
  {
   "cell_type": "code",
   "execution_count": null,
   "metadata": {},
   "outputs": [],
   "source": []
  },
  {
   "cell_type": "code",
   "execution_count": null,
   "metadata": {},
   "outputs": [],
   "source": [
    "recuperados_acompanhamento_df.printSchema()"
   ]
  },
  {
   "cell_type": "code",
   "execution_count": null,
   "metadata": {},
   "outputs": [],
   "source": [
    "recuperados_acompanhamento_df.show(6)"
   ]
  },
  {
   "cell_type": "code",
   "execution_count": null,
   "metadata": {},
   "outputs": [],
   "source": []
  },
  {
   "cell_type": "code",
   "execution_count": null,
   "metadata": {},
   "outputs": [],
   "source": []
  },
  {
   "cell_type": "code",
   "execution_count": null,
   "metadata": {},
   "outputs": [],
   "source": []
  },
  {
   "cell_type": "code",
   "execution_count": null,
   "metadata": {},
   "outputs": [],
   "source": [
    "#criando view de casos recuerados e casos em acompanhamento\n",
    "casos_rec_acomp = sqlContext.sql('select Recuperadosnovos from dados_covid')"
   ]
  },
  {
   "cell_type": "code",
   "execution_count": null,
   "metadata": {},
   "outputs": [],
   "source": [
    "da"
   ]
  },
  {
   "cell_type": "code",
   "execution_count": null,
   "metadata": {},
   "outputs": [],
   "source": [
    "em_acomp = sqlContext.sql('select emAcompanhamentoNovos, Recuperadosnovos from dados_covid')"
   ]
  },
  {
   "cell_type": "code",
   "execution_count": 1,
   "metadata": {},
   "outputs": [
    {
     "name": "stdout",
     "output_type": "stream",
     "text": [
      "+------+------+-----+------+--------------+---------------+----+---------+----------------+--------------+----------+---------------+-----------+----------------+---------------------+----------------------+---------+\n",
      "|regiao|estado|coduf|codmun|codRegiaoSaude|nomeRegiaoSaude|data|semanaEpi|populacaoTCU2019|casosAcumulado|casosNovos|obitosAcumulado|obitosNovos|Recuperadosnovos|emAcompanhamentoNovos|interior/metropolitana|municipio|\n",
      "+------+------+-----+------+--------------+---------------+----+---------+----------------+--------------+----------+---------------+-----------+----------------+---------------------+----------------------+---------+\n",
      "+------+------+-----+------+--------------+---------------+----+---------+----------------+--------------+----------+---------------+-----------+----------------+---------------------+----------------------+---------+\n",
      "\n"
     ]
    }
   ],
   "source": [
    "tabela_teste = spark.read.table('dados_covid_partition')\n",
    "tabela_teste.show(5)"
   ]
  },
  {
   "cell_type": "code",
   "execution_count": null,
   "metadata": {},
   "outputs": [],
   "source": [
    "casos_rec_acomp.show(5)"
   ]
  },
  {
   "cell_type": "code",
   "execution_count": null,
   "metadata": {
    "scrolled": true
   },
   "outputs": [],
   "source": [
    "em_acomp.show(5)"
   ]
  },
  {
   "cell_type": "code",
   "execution_count": null,
   "metadata": {},
   "outputs": [],
   "source": [
    "from pyspark.sql import functions as F\n",
    "total = em_acomp.agg(F.sum(\"emAcompanhamentoNovos\")).collect()\n",
    "total2 = casos_rec_acomp.agg(F.sum(\"Recuperadosnovos\")).collect()"
   ]
  },
  {
   "cell_type": "code",
   "execution_count": null,
   "metadata": {},
   "outputs": [],
   "source": [
    "type(total)"
   ]
  },
  {
   "cell_type": "code",
   "execution_count": null,
   "metadata": {},
   "outputs": [],
   "source": [
    "print(total2)"
   ]
  },
  {
   "cell_type": "code",
   "execution_count": null,
   "metadata": {},
   "outputs": [],
   "source": [
    "total = em_acomp.agg(F.sum(\"emAcompanhamentoNovos\")).collect()"
   ]
  }
 ],
 "metadata": {
  "kernelspec": {
   "display_name": "PySpark",
   "language": "python",
   "name": "pyspark"
  },
  "language_info": {
   "codemirror_mode": {
    "name": "ipython",
    "version": 3
   },
   "file_extension": ".py",
   "mimetype": "text/x-python",
   "name": "python",
   "nbconvert_exporter": "python",
   "pygments_lexer": "ipython3",
   "version": "3.6.10"
  }
 },
 "nbformat": 4,
 "nbformat_minor": 2
}
